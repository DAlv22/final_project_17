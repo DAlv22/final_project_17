{
 "cells": [
  {
   "cell_type": "code",
   "execution_count": 1,
   "metadata": {},
   "outputs": [],
   "source": [
    "import pandas as pd\n",
    "import numpy as np"
   ]
  },
  {
   "cell_type": "code",
   "execution_count": 2,
   "metadata": {},
   "outputs": [
    {
     "name": "stderr",
     "output_type": "stream",
     "text": [
      "C:\\Users\\duca_\\AppData\\Local\\Temp\\ipykernel_20164\\3805321339.py:3: UserWarning: Could not infer format, so each element will be parsed individually, falling back to `dateutil`. To ensure parsing is consistent and as-expected, please specify a format.\n",
      "  datasets['contract'] = pd.read_csv(folder_path + 'contract.csv', parse_dates=['EndDate'])\n"
     ]
    }
   ],
   "source": [
    "def load_data(folder_path):\n",
    "    datasets = {}\n",
    "    datasets['contract'] = pd.read_csv(folder_path + 'contract.csv', parse_dates=['EndDate'])\n",
    "    datasets['personal'] = pd.read_csv(folder_path + 'personal.csv')\n",
    "    datasets['internet'] = pd.read_csv(folder_path + 'internet.csv')\n",
    "    datasets['phone'] = pd.read_csv(folder_path + 'phone.csv')\n",
    "    return datasets\n",
    "\n",
    "\n",
    "# Pending use\n",
    "if __name__ == \"__main__\":\n",
    "    folder_path = 'files/datasets/input/'\n",
    "    data = load_data(folder_path)\n",
    "    contract_data = data['contract']\n",
    "    personal_data = data['personal']\n",
    "    internet_data = data['internet']\n",
    "    phone_data = data['phone']"
   ]
  },
  {
   "cell_type": "code",
   "execution_count": 4,
   "metadata": {},
   "outputs": [
    {
     "name": "stdout",
     "output_type": "stream",
     "text": [
      "<class 'pandas.core.frame.DataFrame'>\n",
      "RangeIndex: 7043 entries, 0 to 7042\n",
      "Data columns (total 8 columns):\n",
      " #   Column            Non-Null Count  Dtype  \n",
      "---  ------            --------------  -----  \n",
      " 0   customerID        7043 non-null   object \n",
      " 1   BeginDate         7043 non-null   object \n",
      " 2   EndDate           7043 non-null   object \n",
      " 3   Type              7043 non-null   object \n",
      " 4   PaperlessBilling  7043 non-null   object \n",
      " 5   PaymentMethod     7043 non-null   object \n",
      " 6   MonthlyCharges    7043 non-null   float64\n",
      " 7   TotalCharges      7043 non-null   object \n",
      "dtypes: float64(1), object(7)\n",
      "memory usage: 440.3+ KB\n"
     ]
    }
   ],
   "source": [
    "contract_data.info()"
   ]
  },
  {
   "cell_type": "code",
   "execution_count": null,
   "metadata": {},
   "outputs": [],
   "source": [
    "def unique_values(dataframe):\n",
    "    for column in dataframe.columns:\n",
    "        unique_values = dataframe[column].unique()\n",
    "        print(f\"Valores únicos en la columna '{column}':\")\n",
    "        print(unique_values)\n",
    "        print()"
   ]
  },
  {
   "cell_type": "code",
   "execution_count": null,
   "metadata": {},
   "outputs": [],
   "source": [
    "def analyze_dataset(df, name):\n",
    "    print(f\"Análisis del conjunto de datos: {name}\\n\")\n",
    "    \n",
    "    # Información del conjunto de datos\n",
    "    print(\"Información del conjunto de datos:\")\n",
    "    print(df.info())\n",
    "    print(\"\\n\")\n",
    "    \n",
    "    # Valores únicos en cada columna\n",
    "    print(\"Valores únicos en cada columna:\")\n",
    "    unique_values(df)\n",
    "    print(\"\\n\")\n",
    "    \n",
    "    # Resumen estadístico\n",
    "    print(\"Resumen estadístico:\")\n",
    "    print(df.describe())\n",
    "    print(\"\\n\")\n",
    "    \n",
    "    # Conteo de valores nulos\n",
    "    print(\"Conteo de valores nulos:\")\n",
    "    print(df.isnull().sum())\n",
    "    print(\"\\n\")\n",
    "    \n",
    "    # Filas duplicadas\n",
    "    print(f\"Número total de filas duplicadas en este archivo es de {df.duplicated().sum()} filas.\\n\")\n",
    "    \n",
    "    # Muestra las primeras filas del conjunto de datos\n",
    "    print(\"Primeras filas del conjunto de datos:\")\n",
    "    print(df.head(10))\n",
    "    print(\"\\n\")\n",
    "\n"
   ]
  },
  {
   "cell_type": "code",
   "execution_count": null,
   "metadata": {},
   "outputs": [],
   "source": [
    "# Llamada a la función para cada conjunto de datos\n",
    "analyze_dataset(contract_data, \"contract\")\n"
   ]
  },
  {
   "cell_type": "code",
   "execution_count": null,
   "metadata": {},
   "outputs": [],
   "source": [
    "analyze_dataset(contract_data, \"contract\")\n",
    "analyze_dataset(personal_data, \"personal\")\n",
    "analyze_dataset(internet_data, \"internet\")\n",
    "analyze_dataset(phone_data, \"phone\")"
   ]
  }
 ],
 "metadata": {
  "kernelspec": {
   "display_name": "final_project",
   "language": "python",
   "name": "python3"
  },
  "language_info": {
   "codemirror_mode": {
    "name": "ipython",
    "version": 3
   },
   "file_extension": ".py",
   "mimetype": "text/x-python",
   "name": "python",
   "nbconvert_exporter": "python",
   "pygments_lexer": "ipython3",
   "version": "3.11.9"
  }
 },
 "nbformat": 4,
 "nbformat_minor": 2
}
